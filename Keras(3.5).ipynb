{
  "nbformat": 4,
  "nbformat_minor": 0,
  "metadata": {
    "colab": {
      "name": "Untitled5.ipynb",
      "version": "0.3.2",
      "provenance": []
    },
    "kernelspec": {
      "name": "python3",
      "display_name": "Python 3"
    }
  },
  "cells": [
    {
      "metadata": {
        "id": "IoR_JsYX6iCr",
        "colab_type": "code",
        "colab": {
          "base_uri": "https://localhost:8080/",
          "height": 53
        },
        "outputId": "ae23a212-055b-411e-98e6-f4a1b2407dbf"
      },
      "cell_type": "code",
      "source": [
        "import keras\n",
        "keras.__version__"
      ],
      "execution_count": 1,
      "outputs": [
        {
          "output_type": "stream",
          "text": [
            "Using TensorFlow backend.\n"
          ],
          "name": "stderr"
        },
        {
          "output_type": "execute_result",
          "data": {
            "text/plain": [
              "'2.2.4'"
            ]
          },
          "metadata": {
            "tags": []
          },
          "execution_count": 1
        }
      ]
    },
    {
      "metadata": {
        "id": "JO53fGdz6nNZ",
        "colab_type": "text"
      },
      "cell_type": "markdown",
      "source": [
        "# 뉴스 기사 분류: 다중 분류 문제\n",
        "\n",
        "두 개 이상의 클래스가 있을 때는 어떻게 해야 할까?\n",
        "\n",
        "로이터 뉴스를 46개의 상호 배타적인 토픽으로 분류하는 신경망 만들기. 클래스가 많기 때문에 이 문제는 다중 분류다. 각 데이터 포인트가 정확히 하나의 범주로 분류되기 때문에 좀 더 정확히 말하면 단일 레이블 다중 분류 문제이다. 각 데이터 포인트가 여러 개의 범주(가령, 토픽)에 속할 수 있다면 이런 문제는 다중 레이블 다중 분류의 문제가 된다.\n",
        "\n",
        "\n",
        "# 로이터 데이터셋 \n",
        "1986년에 로이터에서 공개한 짧은 뉴스 기사와 토픽의 집합인 로이터 데이터셋을 사용. 이 데이터셋은 텍스트 분류를 위해 널리 사용되는 간단한 데이터셋이다. 46개의 토픽이 있으며 어떤 토픽은 다른 것에 비해 데이터가 많다. 각 토픽은 훈련 세트에 최소한 10개의 샘플을 가지고 있습니다.\n"
      ]
    },
    {
      "metadata": {
        "id": "eSavMUqY7Uh9",
        "colab_type": "code",
        "colab": {
          "base_uri": "https://localhost:8080/",
          "height": 53
        },
        "outputId": "7a43209c-a91a-47dd-83b7-631352214d41"
      },
      "cell_type": "code",
      "source": [
        "from keras.datasets import reuters\n",
        "\n",
        "(train_data, train_labels), (test_data, test_labels) = reuters.load_data(num_words=10000)"
      ],
      "execution_count": 2,
      "outputs": [
        {
          "output_type": "stream",
          "text": [
            "Downloading data from https://s3.amazonaws.com/text-datasets/reuters.npz\n",
            "2113536/2110848 [==============================] - 0s 0us/step\n"
          ],
          "name": "stdout"
        }
      ]
    },
    {
      "metadata": {
        "id": "VSpHEitD7Vjl",
        "colab_type": "text"
      },
      "cell_type": "markdown",
      "source": [
        "매개변수는 데이터에서 가장 자주 등장하는 단어 10,000개로 제한.\n",
        "\n",
        "train : 8,982개 test : 2,246개"
      ]
    },
    {
      "metadata": {
        "id": "s-nmxErI7eLh",
        "colab_type": "code",
        "colab": {
          "base_uri": "https://localhost:8080/",
          "height": 35
        },
        "outputId": "01e8800d-5cec-4fd1-a055-2eae21b9cdde"
      },
      "cell_type": "code",
      "source": [
        "len(train_data)\n"
      ],
      "execution_count": 5,
      "outputs": [
        {
          "output_type": "execute_result",
          "data": {
            "text/plain": [
              "8982"
            ]
          },
          "metadata": {
            "tags": []
          },
          "execution_count": 5
        }
      ]
    },
    {
      "metadata": {
        "id": "HZkafa_M7lbk",
        "colab_type": "code",
        "colab": {
          "base_uri": "https://localhost:8080/",
          "height": 35
        },
        "outputId": "de27c7e2-f919-4752-cd12-fb40bf232755"
      },
      "cell_type": "code",
      "source": [
        "len(test_data)"
      ],
      "execution_count": 6,
      "outputs": [
        {
          "output_type": "execute_result",
          "data": {
            "text/plain": [
              "2246"
            ]
          },
          "metadata": {
            "tags": []
          },
          "execution_count": 6
        }
      ]
    },
    {
      "metadata": {
        "id": "mSCJ_ulO7kag",
        "colab_type": "code",
        "colab": {
          "base_uri": "https://localhost:8080/",
          "height": 575
        },
        "outputId": "0f3d6a18-7da0-4c71-d4c3-13c2aaf67409"
      },
      "cell_type": "code",
      "source": [
        "train_data[10]"
      ],
      "execution_count": 7,
      "outputs": [
        {
          "output_type": "execute_result",
          "data": {
            "text/plain": [
              "[1,\n",
              " 245,\n",
              " 273,\n",
              " 207,\n",
              " 156,\n",
              " 53,\n",
              " 74,\n",
              " 160,\n",
              " 26,\n",
              " 14,\n",
              " 46,\n",
              " 296,\n",
              " 26,\n",
              " 39,\n",
              " 74,\n",
              " 2979,\n",
              " 3554,\n",
              " 14,\n",
              " 46,\n",
              " 4689,\n",
              " 4329,\n",
              " 86,\n",
              " 61,\n",
              " 3499,\n",
              " 4795,\n",
              " 14,\n",
              " 61,\n",
              " 451,\n",
              " 4329,\n",
              " 17,\n",
              " 12]"
            ]
          },
          "metadata": {
            "tags": []
          },
          "execution_count": 7
        }
      ]
    },
    {
      "metadata": {
        "id": "EFCNyECS7ruo",
        "colab_type": "code",
        "colab": {
          "base_uri": "https://localhost:8080/",
          "height": 53
        },
        "outputId": "9e803fe9-7a54-40a0-9688-5ba4bdbd1426"
      },
      "cell_type": "code",
      "source": [
        "#단어 디코딩 법\n",
        "\n",
        "\n",
        "word_index = reuters.get_word_index()\n",
        "reverse_word_index = dict([(value, key) for (key, value) in word_index.items()])\n",
        "# 0, 1, 2는 '패딩', '문서 시작', '사전에 없음'을 위한 인덱스이므로 3을 뺍니다\n",
        "decoded_newswire = ' '.join([reverse_word_index.get(i - 3, '?') for i in train_data[0]])"
      ],
      "execution_count": 8,
      "outputs": [
        {
          "output_type": "stream",
          "text": [
            "Downloading data from https://s3.amazonaws.com/text-datasets/reuters_word_index.json\n",
            "557056/550378 [==============================] - 0s 1us/step\n"
          ],
          "name": "stdout"
        }
      ]
    },
    {
      "metadata": {
        "id": "YjnjrtDq7yoL",
        "colab_type": "code",
        "colab": {
          "base_uri": "https://localhost:8080/",
          "height": 55
        },
        "outputId": "dc5922b0-872d-4a73-cee4-241154485a1d"
      },
      "cell_type": "code",
      "source": [
        "decoded_newswire"
      ],
      "execution_count": 9,
      "outputs": [
        {
          "output_type": "execute_result",
          "data": {
            "text/plain": [
              "'? ? ? said as a result of its december acquisition of space co it expects earnings per share in 1987 of 1 15 to 1 30 dlrs per share up from 70 cts in 1986 the company said pretax net should rise to nine to 10 mln dlrs from six mln dlrs in 1986 and rental operation revenues to 19 to 22 mln dlrs from 12 5 mln dlrs it said cash flow per share this year should be 2 50 to three dlrs reuter 3'"
            ]
          },
          "metadata": {
            "tags": []
          },
          "execution_count": 9
        }
      ]
    },
    {
      "metadata": {
        "id": "ek15iWqx70me",
        "colab_type": "text"
      },
      "cell_type": "markdown",
      "source": [
        "샘플에 연결된 레이블은 토픽의 인덱스로 0과 45 사이의 정수"
      ]
    },
    {
      "metadata": {
        "id": "N_gz1RR773O9",
        "colab_type": "code",
        "colab": {
          "base_uri": "https://localhost:8080/",
          "height": 35
        },
        "outputId": "7d1c01c2-260c-4bef-d8d7-f99f2ba9e87b"
      },
      "cell_type": "code",
      "source": [
        "train_labels[10]"
      ],
      "execution_count": 10,
      "outputs": [
        {
          "output_type": "execute_result",
          "data": {
            "text/plain": [
              "3"
            ]
          },
          "metadata": {
            "tags": []
          },
          "execution_count": 10
        }
      ]
    },
    {
      "metadata": {
        "id": "mbUK05MJ76y-",
        "colab_type": "text"
      },
      "cell_type": "markdown",
      "source": [
        "# 데이터 준비\n",
        "데이터를 벡터로 변환하기"
      ]
    },
    {
      "metadata": {
        "id": "4vEJn3sV8AQl",
        "colab_type": "code",
        "colab": {}
      },
      "cell_type": "code",
      "source": [
        "import numpy as np\n",
        "\n",
        "def vectorize_sequences(sequences, dimension=10000):\n",
        "    results = np.zeros((len(sequences), dimension))\n",
        "    for i, sequence in enumerate(sequences):\n",
        "        results[i, sequence] = 1.\n",
        "    return results\n",
        "\n",
        "# 훈련 데이터 벡터 변환\n",
        "x_train = vectorize_sequences(train_data)\n",
        "# 테스트 데이터 벡터 변환\n",
        "x_test = vectorize_sequences(test_data)"
      ],
      "execution_count": 0,
      "outputs": []
    },
    {
      "metadata": {
        "id": "fY8pvdh88DMp",
        "colab_type": "text"
      },
      "cell_type": "markdown",
      "source": [
        "레이블을 벡터로 바꾸는 방법은 2가지가 있다.\n",
        "\n",
        ">방법1 : 레이블의 리스트를 정수 텐서로 변환하는 것\n",
        "\n",
        ">방법2 :  원-핫 인코딩을 사용하는 것. 원-핫 인코딩이 범주형 데이터에 널리 사용되기 때문에 범주형 인코딩이라고도 부른다. 이 경우 레이블의 원-핫 인코딩은 각 레이블의 인덱스 자리는 1이고 나머지는 모두 0인 벡터다"
      ]
    },
    {
      "metadata": {
        "id": "G25yLcui8DW5",
        "colab_type": "code",
        "colab": {}
      },
      "cell_type": "code",
      "source": [
        "def to_one_hot(labels, dimension=46):\n",
        "    results = np.zeros((len(labels), dimension))\n",
        "    for i, label in enumerate(labels):\n",
        "        results[i, label] = 1.\n",
        "    return results\n",
        "\n",
        "# 훈련 레이블 벡터 변환\n",
        "one_hot_train_labels = to_one_hot(train_labels)\n",
        "# 테스트 레이블 벡터 변환\n",
        "one_hot_test_labels = to_one_hot(test_labels)"
      ],
      "execution_count": 0,
      "outputs": []
    },
    {
      "metadata": {
        "id": "DwuxzEuT8D7t",
        "colab_type": "code",
        "colab": {}
      },
      "cell_type": "code",
      "source": [
        "from keras.utils.np_utils import to_categorical\n",
        "\n",
        "one_hot_train_labels = to_categorical(train_labels)\n",
        "one_hot_test_labels = to_categorical(test_labels)"
      ],
      "execution_count": 0,
      "outputs": []
    },
    {
      "metadata": {
        "id": "wGat0-sg8K0F",
        "colab_type": "text"
      },
      "cell_type": "markdown",
      "source": [
        "# 모델 구성\n",
        "이 토픽 분류 문제는 이전의 영화 리뷰 분류 문제와 비슷해 보이나 여기에서는 출력 클래스의 개수가 2에서 46개로 늘어난 점입니다. 출력 공간의 차원이 훨씬 커졌다.\n",
        "\n",
        "이전에 사용했던 것처럼 Dense 층을 쌓으면 각 층은 이전 층의 출력에서 제공한 정보만 사용할 수 있다. 한 층이 분류 문제에 필요한 일부 정보를 누락하면 그 다음 층에서 이를 복원할 방법이 없다. 각 층은 잠재적으로 정보의 병목이 될 수 있다. 이전 예제에서 16차원을 가진 중간층을 사용했지만 *16차원 공간은 46개의 클래스를 구분하기에 너무 제약이 많을 것 같다. 이렇게 규모가 작은 층은 유용한 정보를 완전히 잃게 되는 정보의 병목 지점처럼 동작할 수 있다.*\n",
        "\n",
        "이런 이유로 좀 더 규모가 큰 층을 사용하자. 64개의 유닛을 사용:"
      ]
    },
    {
      "metadata": {
        "id": "l2QmIu6r9Ndp",
        "colab_type": "code",
        "colab": {
          "base_uri": "https://localhost:8080/",
          "height": 91
        },
        "outputId": "18ca7b64-e035-4352-cbe8-9ed51915b1d5"
      },
      "cell_type": "code",
      "source": [
        "from keras import models\n",
        "from keras import layers\n",
        "\n",
        "model = models.Sequential()\n",
        "model.add(layers.Dense(64, activation='relu', input_shape=(10000,)))\n",
        "model.add(layers.Dense(64, activation='relu'))\n",
        "model.add(layers.Dense(46, activation='softmax'))"
      ],
      "execution_count": 15,
      "outputs": [
        {
          "output_type": "stream",
          "text": [
            "WARNING:tensorflow:From /usr/local/lib/python3.6/dist-packages/tensorflow/python/framework/op_def_library.py:263: colocate_with (from tensorflow.python.framework.ops) is deprecated and will be removed in a future version.\n",
            "Instructions for updating:\n",
            "Colocations handled automatically by placer.\n"
          ],
          "name": "stdout"
        }
      ]
    },
    {
      "metadata": {
        "id": "koLoScHL9Nuo",
        "colab_type": "text"
      },
      "cell_type": "markdown",
      "source": [
        "이 구조에서 주목할 점:\n",
        "\n",
        "마지막 Dense 층의 크기가 46이다. 각 입력 샘플에 대해서 46차원의 벡터를 출력한다는 뜻. 이 벡터의 각 원소(각 차원)은 각기 다른 출력 클래스가 인코딩된 것이고 마지막 층에 softmax 활성화 함수가 사용되었다. (MNIST 예제에서 이런 방식을 봤다. )각 입력 샘플마다 46개의 출력 클래스에 대한 확률 분포를 출력한다. 즉, 46차원의 출력 벡터를 만들며 output[i]는 어떤 샘플이 클래스 i에 속할 확률이다. 46개의 값을 모두 더하면 1이 된다.\n",
        "이런 문제에 사용할 **최선의 손실 함수는 categorical_crossentropy**이다. 이 함수는 두 확률 분포의 사이의 거리를 측정한다. 여기에서는 네트워크가 출력한 확률 분포와 진짜 레이블의 분포 사이의 거리이다*. 두 분포 사이의 거리를 최소화하면 진짜 레이블에 가능한 가까운 출력을 내도록 모델을 훈련하게 된다.*"
      ]
    },
    {
      "metadata": {
        "id": "chHQktJQ-BvZ",
        "colab_type": "code",
        "colab": {}
      },
      "cell_type": "code",
      "source": [
        "model.compile(optimizer='rmsprop',\n",
        "              loss='categorical_crossentropy',\n",
        "              metrics=['accuracy'])"
      ],
      "execution_count": 0,
      "outputs": []
    },
    {
      "metadata": {
        "id": "GbEjgVYd9Ojt",
        "colab_type": "text"
      },
      "cell_type": "markdown",
      "source": [
        "# 훈련 검증\n",
        "훈련 데이터에서 1,000개의 샘플을 따로 떼어서 검증 세트로 사용"
      ]
    },
    {
      "metadata": {
        "id": "KBCMm1iG-X0F",
        "colab_type": "code",
        "colab": {}
      },
      "cell_type": "code",
      "source": [
        "x_val = x_train[:1000]\n",
        "partial_x_train = x_train[1000:]\n",
        "\n",
        "y_val = one_hot_train_labels[:1000]\n",
        "partial_y_train = one_hot_train_labels[1000:]"
      ],
      "execution_count": 0,
      "outputs": []
    },
    {
      "metadata": {
        "id": "LR4rr20T-XLR",
        "colab_type": "text"
      },
      "cell_type": "markdown",
      "source": [
        "20번의 에포크로 모델 훈련하기"
      ]
    },
    {
      "metadata": {
        "id": "O3QbOofq-del",
        "colab_type": "code",
        "colab": {
          "base_uri": "https://localhost:8080/",
          "height": 829
        },
        "outputId": "5c8962cb-a993-4297-9d85-90452a9472c8"
      },
      "cell_type": "code",
      "source": [
        "history = model.fit(partial_x_train,\n",
        "                    partial_y_train,\n",
        "                    epochs=20,\n",
        "                    batch_size=512,\n",
        "                    validation_data=(x_val, y_val))"
      ],
      "execution_count": 18,
      "outputs": [
        {
          "output_type": "stream",
          "text": [
            "WARNING:tensorflow:From /usr/local/lib/python3.6/dist-packages/tensorflow/python/ops/math_ops.py:3066: to_int32 (from tensorflow.python.ops.math_ops) is deprecated and will be removed in a future version.\n",
            "Instructions for updating:\n",
            "Use tf.cast instead.\n",
            "Train on 7982 samples, validate on 1000 samples\n",
            "Epoch 1/20\n",
            "7982/7982 [==============================] - 1s 184us/step - loss: 2.5322 - acc: 0.4955 - val_loss: 1.7208 - val_acc: 0.6120\n",
            "Epoch 2/20\n",
            "7982/7982 [==============================] - 1s 154us/step - loss: 1.4452 - acc: 0.6879 - val_loss: 1.3459 - val_acc: 0.7060\n",
            "Epoch 3/20\n",
            "7982/7982 [==============================] - 1s 151us/step - loss: 1.0953 - acc: 0.7651 - val_loss: 1.1708 - val_acc: 0.7430\n",
            "Epoch 4/20\n",
            "7982/7982 [==============================] - 1s 150us/step - loss: 0.8697 - acc: 0.8165 - val_loss: 1.0793 - val_acc: 0.7590\n",
            "Epoch 5/20\n",
            "7982/7982 [==============================] - 1s 152us/step - loss: 0.7033 - acc: 0.8470 - val_loss: 0.9843 - val_acc: 0.7820\n",
            "Epoch 6/20\n",
            "7982/7982 [==============================] - 1s 152us/step - loss: 0.5665 - acc: 0.8797 - val_loss: 0.9412 - val_acc: 0.8040\n",
            "Epoch 7/20\n",
            "7982/7982 [==============================] - 1s 151us/step - loss: 0.4579 - acc: 0.9047 - val_loss: 0.9081 - val_acc: 0.8010\n",
            "Epoch 8/20\n",
            "7982/7982 [==============================] - 1s 153us/step - loss: 0.3695 - acc: 0.9230 - val_loss: 0.9367 - val_acc: 0.7900\n",
            "Epoch 9/20\n",
            "7982/7982 [==============================] - 1s 153us/step - loss: 0.3031 - acc: 0.9313 - val_loss: 0.8925 - val_acc: 0.8090\n",
            "Epoch 10/20\n",
            "7982/7982 [==============================] - 1s 150us/step - loss: 0.2538 - acc: 0.9416 - val_loss: 0.9058 - val_acc: 0.8110\n",
            "Epoch 11/20\n",
            "7982/7982 [==============================] - 1s 151us/step - loss: 0.2186 - acc: 0.9464 - val_loss: 0.9180 - val_acc: 0.8140\n",
            "Epoch 12/20\n",
            "7982/7982 [==============================] - 1s 152us/step - loss: 0.1871 - acc: 0.9509 - val_loss: 0.9048 - val_acc: 0.8140\n",
            "Epoch 13/20\n",
            "7982/7982 [==============================] - 1s 152us/step - loss: 0.1699 - acc: 0.9524 - val_loss: 0.9327 - val_acc: 0.8100\n",
            "Epoch 14/20\n",
            "7982/7982 [==============================] - 1s 151us/step - loss: 0.1534 - acc: 0.9553 - val_loss: 0.9683 - val_acc: 0.8070\n",
            "Epoch 15/20\n",
            "7982/7982 [==============================] - 1s 153us/step - loss: 0.1390 - acc: 0.9559 - val_loss: 0.9682 - val_acc: 0.8150\n",
            "Epoch 16/20\n",
            "7982/7982 [==============================] - 1s 153us/step - loss: 0.1314 - acc: 0.9565 - val_loss: 1.0202 - val_acc: 0.8050\n",
            "Epoch 17/20\n",
            "7982/7982 [==============================] - 1s 153us/step - loss: 0.1219 - acc: 0.9580 - val_loss: 1.0247 - val_acc: 0.7980\n",
            "Epoch 18/20\n",
            "7982/7982 [==============================] - 1s 153us/step - loss: 0.1195 - acc: 0.9579 - val_loss: 1.0431 - val_acc: 0.8050\n",
            "Epoch 19/20\n",
            "7982/7982 [==============================] - 1s 153us/step - loss: 0.1136 - acc: 0.9594 - val_loss: 1.0966 - val_acc: 0.7970\n",
            "Epoch 20/20\n",
            "7982/7982 [==============================] - 1s 152us/step - loss: 0.1112 - acc: 0.9592 - val_loss: 1.0685 - val_acc: 0.8020\n"
          ],
          "name": "stdout"
        }
      ]
    },
    {
      "metadata": {
        "id": "ypLPre_H-gqx",
        "colab_type": "code",
        "colab": {}
      },
      "cell_type": "code",
      "source": [
        "import matplotlib.pyplot as plt"
      ],
      "execution_count": 0,
      "outputs": []
    },
    {
      "metadata": {
        "id": "ltYhV8cY-g5p",
        "colab_type": "code",
        "colab": {
          "base_uri": "https://localhost:8080/",
          "height": 295
        },
        "outputId": "f4bc55d4-796c-44de-8ce9-b43ac2668762"
      },
      "cell_type": "code",
      "source": [
        "loss = history.history['loss']\n",
        "val_loss = history.history['val_loss']\n",
        "\n",
        "epochs = range(1, len(loss) + 1)\n",
        "\n",
        "plt.plot(epochs, loss, 'bo', label='Training loss')\n",
        "plt.plot(epochs, val_loss, 'b', label='Validation loss')\n",
        "plt.title('Training and validation loss')\n",
        "plt.xlabel('Epochs')\n",
        "plt.ylabel('Loss')\n",
        "plt.legend()\n",
        "\n",
        "plt.show()"
      ],
      "execution_count": 20,
      "outputs": [
        {
          "output_type": "display_data",
          "data": {
            "image/png": "[encoded data removed]",
            "text/plain": [
              "<Figure size 432x288 with 1 Axes>"
            ]
          },
          "metadata": {
            "tags": []
          }
        }
      ]
    },
    {
      "metadata": {
        "id": "W4bpRDrx-mBx",
        "colab_type": "code",
        "colab": {
          "base_uri": "https://localhost:8080/",
          "height": 295
        },
        "outputId": "a90d5875-449d-4183-f93d-05a388888e32"
      },
      "cell_type": "code",
      "source": [
        "plt.clf()   # 그래프를 초기화합니다\n",
        "\n",
        "acc = history.history['acc']\n",
        "val_acc = history.history['val_acc']\n",
        "\n",
        "plt.plot(epochs, acc, 'bo', label='Training acc')\n",
        "plt.plot(epochs, val_acc, 'b', label='Validation acc')\n",
        "plt.title('Training and validation accuracy')\n",
        "plt.xlabel('Epochs')\n",
        "plt.ylabel('Accuracy')\n",
        "plt.legend()\n",
        "\n",
        "plt.show()"
      ],
      "execution_count": 21,
      "outputs": [
        {
          "output_type": "display_data",
          "data": {
            "image/png": "[encoded data removed]",
            "text/plain": [
              "<Figure size 432x288 with 1 Axes>"
            ]
          },
          "metadata": {
            "tags": []
          }
        }
      ]
    },
    {
      "metadata": {
        "id": "gJe2tw6--oEe",
        "colab_type": "text"
      },
      "cell_type": "markdown",
      "source": [
        "이 모델은 9번째 에포크 이후에 과대적합이 시작됨. 9번의 에포크로 새로운 모델을 훈련하고 테스트 세트에서 평가하자"
      ]
    },
    {
      "metadata": {
        "id": "QMMtSTnD-wMh",
        "colab_type": "code",
        "colab": {
          "base_uri": "https://localhost:8080/",
          "height": 397
        },
        "outputId": "f8b89952-7860-4b11-f137-2c978df711c1"
      },
      "cell_type": "code",
      "source": [
        "model = models.Sequential()\n",
        "model.add(layers.Dense(64, activation='relu', input_shape=(10000,)))\n",
        "model.add(layers.Dense(64, activation='relu'))\n",
        "model.add(layers.Dense(46, activation='softmax'))\n",
        "\n",
        "model.compile(optimizer='rmsprop',\n",
        "              loss='categorical_crossentropy',\n",
        "              metrics=['accuracy'])\n",
        "model.fit(partial_x_train,\n",
        "          partial_y_train,\n",
        "          epochs=9,\n",
        "          batch_size=512,\n",
        "          validation_data=(x_val, y_val))\n",
        "results = model.evaluate(x_test, one_hot_test_labels)"
      ],
      "execution_count": 22,
      "outputs": [
        {
          "output_type": "stream",
          "text": [
            "Train on 7982 samples, validate on 1000 samples\n",
            "Epoch 1/9\n",
            "7982/7982 [==============================] - 2s 193us/step - loss: 2.5398 - acc: 0.5226 - val_loss: 1.6733 - val_acc: 0.6570\n",
            "Epoch 2/9\n",
            "7982/7982 [==============================] - 1s 153us/step - loss: 1.3712 - acc: 0.7121 - val_loss: 1.2758 - val_acc: 0.7210\n",
            "Epoch 3/9\n",
            "7982/7982 [==============================] - 1s 154us/step - loss: 1.0136 - acc: 0.7781 - val_loss: 1.1303 - val_acc: 0.7530\n",
            "Epoch 4/9\n",
            "7982/7982 [==============================] - 1s 154us/step - loss: 0.7976 - acc: 0.8251 - val_loss: 1.0539 - val_acc: 0.7590\n",
            "Epoch 5/9\n",
            "7982/7982 [==============================] - 1s 154us/step - loss: 0.6393 - acc: 0.8624 - val_loss: 0.9754 - val_acc: 0.7920\n",
            "Epoch 6/9\n",
            "7982/7982 [==============================] - 1s 155us/step - loss: 0.5124 - acc: 0.8923 - val_loss: 0.9102 - val_acc: 0.8140\n",
            "Epoch 7/9\n",
            "7982/7982 [==============================] - 1s 153us/step - loss: 0.4123 - acc: 0.9137 - val_loss: 0.8932 - val_acc: 0.8210\n",
            "Epoch 8/9\n",
            "7982/7982 [==============================] - 1s 153us/step - loss: 0.3354 - acc: 0.9288 - val_loss: 0.8732 - val_acc: 0.8260\n",
            "Epoch 9/9\n",
            "7982/7982 [==============================] - 1s 153us/step - loss: 0.2782 - acc: 0.9371 - val_loss: 0.9337 - val_acc: 0.8010\n",
            "2246/2246 [==============================] - 0s 94us/step\n"
          ],
          "name": "stdout"
        }
      ]
    },
    {
      "metadata": {
        "id": "U1R_6-mx-ybW",
        "colab_type": "code",
        "colab": {
          "base_uri": "https://localhost:8080/",
          "height": 35
        },
        "outputId": "ee6f0cb9-110e-49f2-ae8a-b38f8a637eeb"
      },
      "cell_type": "code",
      "source": [
        "results"
      ],
      "execution_count": 23,
      "outputs": [
        {
          "output_type": "execute_result",
          "data": {
            "text/plain": [
              "[1.022207990036622, 0.7756010686194165]"
            ]
          },
          "metadata": {
            "tags": []
          },
          "execution_count": 23
        }
      ]
    },
    {
      "metadata": {
        "id": "7pCeAR37-1QY",
        "colab_type": "text"
      },
      "cell_type": "markdown",
      "source": [
        "대략 78%의 정확도를 보인다. 균형 잡힌 이진 분류 문제에서 완전히 무작위로 분류하면 50%의 정확도를 달성한다. 이 문제는 불균형한 데이터셋을 사용하므로 무작위로 분류하면 19% 정도를 달성한다. 여기에 비하면  꽤 좋은 결과이다."
      ]
    },
    {
      "metadata": {
        "id": "Q02DjfNB-0Qq",
        "colab_type": "code",
        "colab": {
          "base_uri": "https://localhost:8080/",
          "height": 35
        },
        "outputId": "412dfcc7-99a8-4852-c1e8-759ab6d938f8"
      },
      "cell_type": "code",
      "source": [
        "import copy\n",
        "\n",
        "test_labels_copy = copy.copy(test_labels)\n",
        "np.random.shuffle(test_labels_copy)\n",
        "float(np.sum(np.array(test_labels) == np.array(test_labels_copy))) / len(test_labels)"
      ],
      "execution_count": 24,
      "outputs": [
        {
          "output_type": "execute_result",
          "data": {
            "text/plain": [
              "0.182546749777382"
            ]
          },
          "metadata": {
            "tags": []
          },
          "execution_count": 24
        }
      ]
    },
    {
      "metadata": {
        "id": "qYgXellN_IhW",
        "colab_type": "text"
      },
      "cell_type": "markdown",
      "source": [
        "# 새로운 데이터에 대해 예측하기\n",
        "모델 인스턴스의 predict 메서드는 46개 토픽에 대한 확률 분포를 반환한다. 테스트 데이터 전체에 대한 토픽을 예측하자"
      ]
    },
    {
      "metadata": {
        "id": "Ul1ws9Uq_Ite",
        "colab_type": "code",
        "colab": {}
      },
      "cell_type": "code",
      "source": [
        "predictions = model.predict(x_test)"
      ],
      "execution_count": 0,
      "outputs": []
    },
    {
      "metadata": {
        "id": "t9rnqCe9_I6q",
        "colab_type": "text"
      },
      "cell_type": "markdown",
      "source": [
        "predictions의 각 항목은 길이가 46인 벡터"
      ]
    },
    {
      "metadata": {
        "id": "WYqRZ4de_JDa",
        "colab_type": "code",
        "colab": {
          "base_uri": "https://localhost:8080/",
          "height": 35
        },
        "outputId": "5626098a-846b-444f-cf44-898060bec37b"
      },
      "cell_type": "code",
      "source": [
        "predictions[0].shape"
      ],
      "execution_count": 26,
      "outputs": [
        {
          "output_type": "execute_result",
          "data": {
            "text/plain": [
              "(46,)"
            ]
          },
          "metadata": {
            "tags": []
          },
          "execution_count": 26
        }
      ]
    },
    {
      "metadata": {
        "id": "2vVuVPcl_JM6",
        "colab_type": "text"
      },
      "cell_type": "markdown",
      "source": [
        "벡터의 원소 합은 1이다."
      ]
    },
    {
      "metadata": {
        "id": "zs_HwOSF_auR",
        "colab_type": "code",
        "colab": {
          "base_uri": "https://localhost:8080/",
          "height": 35
        },
        "outputId": "9d4c99b1-af60-497c-ad06-1ee2c65ba8f5"
      },
      "cell_type": "code",
      "source": [
        "np.sum(predictions[0])"
      ],
      "execution_count": 27,
      "outputs": [
        {
          "output_type": "execute_result",
          "data": {
            "text/plain": [
              "1.0"
            ]
          },
          "metadata": {
            "tags": []
          },
          "execution_count": 27
        }
      ]
    },
    {
      "metadata": {
        "id": "hx0FJ-iQ_cnN",
        "colab_type": "text"
      },
      "cell_type": "markdown",
      "source": [
        "# 레이블과 손실을 다루는 다른 방법\n",
        "앞서 언급한 것처럼 레이블을 인코딩하는 다른 방법은 다음과 같이 정수 텐서로 변환하는 것이다:"
      ]
    },
    {
      "metadata": {
        "id": "cAcCfeL4_gKl",
        "colab_type": "code",
        "colab": {}
      },
      "cell_type": "code",
      "source": [
        "y_train = np.array(train_labels)\n",
        "y_test = np.array(test_labels)"
      ],
      "execution_count": 0,
      "outputs": []
    },
    {
      "metadata": {
        "id": "QzJh0LoW_jcF",
        "colab_type": "text"
      },
      "cell_type": "markdown",
      "source": [
        "이 방식을 사용하려면 손실 함수 하나만 바꾸면 돤다.\n",
        "\n"
      ]
    },
    {
      "metadata": {
        "id": "HUPchb-Z_iXB",
        "colab_type": "code",
        "colab": {}
      },
      "cell_type": "code",
      "source": [
        "model.compile(optimizer='rmsprop', loss='sparse_categorical_crossentropy', metrics=['acc'])"
      ],
      "execution_count": 0,
      "outputs": []
    },
    {
      "metadata": {
        "id": "HpeNNghK_mSW",
        "colab_type": "text"
      },
      "cell_type": "markdown",
      "source": [
        "이 손실 함수는 인터페이스만 다를 뿐이고 수학적으로는 categorical_crossentropy와 동일함."
      ]
    },
    {
      "metadata": {
        "id": "2gGIdiTA_mWF",
        "colab_type": "text"
      },
      "cell_type": "markdown",
      "source": [
        "충분히 큰 중간층을 두어야 하는 이유\n",
        "앞서 언급한 것처럼 마지막 출력이 46차원이기 때문에 중간층의 히든 유닛이 46개보다 많이 적어서는 안 된다. 46차원보다 훨씬 작은 중간층(예를 들면 4차원)을 두면 정보의 병목이 어떻게 나타나는지 확인해야 한다."
      ]
    },
    {
      "metadata": {
        "id": "FiKVtERk_mnh",
        "colab_type": "code",
        "colab": {
          "base_uri": "https://localhost:8080/",
          "height": 793
        },
        "outputId": "18112935-5afc-4dff-a9a5-36fde080d17c"
      },
      "cell_type": "code",
      "source": [
        "model = models.Sequential()\n",
        "model.add(layers.Dense(64, activation='relu', input_shape=(10000,)))\n",
        "model.add(layers.Dense(4, activation='relu'))\n",
        "model.add(layers.Dense(46, activation='softmax'))\n",
        "\n",
        "model.compile(optimizer='rmsprop',\n",
        "              loss='categorical_crossentropy',\n",
        "              metrics=['accuracy'])\n",
        "model.fit(partial_x_train,\n",
        "          partial_y_train,\n",
        "          epochs=20,\n",
        "          batch_size=128,\n",
        "          validation_data=(x_val, y_val))"
      ],
      "execution_count": 30,
      "outputs": [
        {
          "output_type": "stream",
          "text": [
            "Train on 7982 samples, validate on 1000 samples\n",
            "Epoch 1/20\n",
            "7982/7982 [==============================] - 3s 333us/step - loss: 2.6581 - acc: 0.3776 - val_loss: 1.9677 - val_acc: 0.5350\n",
            "Epoch 2/20\n",
            "7982/7982 [==============================] - 2s 258us/step - loss: 1.6663 - acc: 0.6218 - val_loss: 1.5409 - val_acc: 0.6230\n",
            "Epoch 3/20\n",
            "7982/7982 [==============================] - 2s 258us/step - loss: 1.3346 - acc: 0.6680 - val_loss: 1.3945 - val_acc: 0.6790\n",
            "Epoch 4/20\n",
            "7982/7982 [==============================] - 2s 260us/step - loss: 1.1438 - acc: 0.7265 - val_loss: 1.3224 - val_acc: 0.6940\n",
            "Epoch 5/20\n",
            "7982/7982 [==============================] - 2s 258us/step - loss: 1.0121 - acc: 0.7453 - val_loss: 1.2708 - val_acc: 0.7030\n",
            "Epoch 6/20\n",
            "7982/7982 [==============================] - 2s 262us/step - loss: 0.9106 - acc: 0.7578 - val_loss: 1.2768 - val_acc: 0.7090\n",
            "Epoch 7/20\n",
            "7982/7982 [==============================] - 2s 259us/step - loss: 0.8308 - acc: 0.7735 - val_loss: 1.2572 - val_acc: 0.7110\n",
            "Epoch 8/20\n",
            "7982/7982 [==============================] - 2s 261us/step - loss: 0.7688 - acc: 0.7899 - val_loss: 1.2645 - val_acc: 0.7190\n",
            "Epoch 9/20\n",
            "7982/7982 [==============================] - 2s 263us/step - loss: 0.7123 - acc: 0.8016 - val_loss: 1.2927 - val_acc: 0.7080\n",
            "Epoch 10/20\n",
            "7982/7982 [==============================] - 2s 260us/step - loss: 0.6618 - acc: 0.8113 - val_loss: 1.3235 - val_acc: 0.7090\n",
            "Epoch 11/20\n",
            "7982/7982 [==============================] - 2s 260us/step - loss: 0.6177 - acc: 0.8200 - val_loss: 1.3498 - val_acc: 0.7150\n",
            "Epoch 12/20\n",
            "7982/7982 [==============================] - 2s 258us/step - loss: 0.5791 - acc: 0.8350 - val_loss: 1.3868 - val_acc: 0.7160\n",
            "Epoch 13/20\n",
            "7982/7982 [==============================] - 2s 259us/step - loss: 0.5412 - acc: 0.8448 - val_loss: 1.4431 - val_acc: 0.7090\n",
            "Epoch 14/20\n",
            "7982/7982 [==============================] - 2s 264us/step - loss: 0.5085 - acc: 0.8558 - val_loss: 1.4673 - val_acc: 0.7150\n",
            "Epoch 15/20\n",
            "7982/7982 [==============================] - 2s 257us/step - loss: 0.4793 - acc: 0.8678 - val_loss: 1.5205 - val_acc: 0.7180\n",
            "Epoch 16/20\n",
            "7982/7982 [==============================] - 2s 261us/step - loss: 0.4506 - acc: 0.8795 - val_loss: 1.5338 - val_acc: 0.7080\n",
            "Epoch 17/20\n",
            "7982/7982 [==============================] - 2s 268us/step - loss: 0.4267 - acc: 0.8824 - val_loss: 1.5728 - val_acc: 0.7210\n",
            "Epoch 18/20\n",
            "7982/7982 [==============================] - 2s 271us/step - loss: 0.4045 - acc: 0.8913 - val_loss: 1.6185 - val_acc: 0.7130\n",
            "Epoch 19/20\n",
            "7982/7982 [==============================] - 2s 274us/step - loss: 0.3852 - acc: 0.8940 - val_loss: 1.6491 - val_acc: 0.7190\n",
            "Epoch 20/20\n",
            "7982/7982 [==============================] - 2s 273us/step - loss: 0.3666 - acc: 0.8974 - val_loss: 1.7285 - val_acc: 0.7120\n"
          ],
          "name": "stdout"
        },
        {
          "output_type": "execute_result",
          "data": {
            "text/plain": [
              "<keras.callbacks.History at 0x7f6980433ba8>"
            ]
          },
          "metadata": {
            "tags": []
          },
          "execution_count": 30
        }
      ]
    },
    {
      "metadata": {
        "id": "pkisKW63_sV5",
        "colab_type": "text"
      },
      "cell_type": "markdown",
      "source": [
        "검증 정확도의 최고 값은 약 71%로 8% 정도 감소했다. 이런 손실의 대부분 원인은 많은 정보(46개 클래스의 분할 초평면을 복원하기에 충분한 정보)를 중간층의 저차원 표현 공간으로 압축하려고 했기 때문이다. 이 네트워크는 필요한 정보 대부분을 4차원 표현 안에 구겨 넣었지만 전부는 넣지 못했다.\n",
        "\n"
      ]
    },
    {
      "metadata": {
        "id": "S2yw-4Xw_sYp",
        "colab_type": "text"
      },
      "cell_type": "markdown",
      "source": [
        "---\n",
        "4월 28일 이후\n",
        "\n",
        "\n",
        "# 추가 실험\n",
        "더 크거나 작은 층을 사용해 보세요: 32개 유닛, 128개 유닛 등\n",
        "여기에서 두 개의 은닉층을 사용했습니다. 한 개의 은닉층이나 세 개의 은닉층을 사용해 보세요."
      ]
    },
    {
      "metadata": {
        "id": "C3HSrFsT_sbq",
        "colab_type": "text"
      },
      "cell_type": "markdown",
      "source": [
        "\n",
        "# 정리\n",
        "\n",
        "* N개의 클래스로 데이터 포인트를 분류하려면 네트워크의 마지막 Dense 층의 크기는 N이어야 한다.\n",
        "* 단일 레이블, 다중 분류 문제에서는 N개의 클래스에 대한 확률 분포를 출력하기 위해 softmax 활성화 함수를 사용해야 한다.\n",
        "* 이런 문제에는 항상 범주형 크로스엔트로피를 사용해야 한다. 이 함수는 모델이 출력한 확률 분포와 타깃 분포 사이의 거리를 최소화한다.\n",
        "* 다중 분류에서 레이블을 다루는 두 가지 방법이 있다.\n",
        ">* 레이블을 범주형 인코딩(또는 원-핫 인코딩)으로 인코딩하고 categorical_crossentropy 손실 함수를 사용한다.\n",
        ">* 레이블을 정수로 인코딩하고 sparse_categorical_crossentropy 손실 함수를 사용한다.\n",
        "* 많은 수의 범주를 분류할 때 중간층의 크기가 너무 작아 네트워크에 정보의 병목이 생기지 않도록 해야 한다."
      ]
    }
  ]
}