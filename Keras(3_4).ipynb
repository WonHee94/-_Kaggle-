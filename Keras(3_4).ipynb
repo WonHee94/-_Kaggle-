{
  "nbformat": 4,
  "nbformat_minor": 0,
  "metadata": {
    "colab": {
      "name": "Keras(3.4).ipynb",
      "version": "0.3.2",
      "provenance": []
    },
    "kernelspec": {
      "name": "python3",
      "display_name": "Python 3"
    }
  },
  "cells": [
    {
      "metadata": {
        "id": "68O602vPoFL8",
        "colab_type": "code",
        "outputId": "4656c779-9f31-4d5f-930e-f3bc4e797294",
        "colab": {
          "base_uri": "https://localhost:8080/",
          "height": 53
        }
      },
      "cell_type": "code",
      "source": [
        "# 케라스 창시자에게 배우는 딥러닝 공부\n",
        "import keras\n",
        "keras.__version__"
      ],
      "execution_count": 0,
      "outputs": [
        {
          "output_type": "stream",
          "text": [
            "Using TensorFlow backend.\n"
          ],
          "name": "stderr"
        },
        {
          "output_type": "execute_result",
          "data": {
            "text/plain": [
              "'2.2.4'"
            ]
          },
          "metadata": {
            "tags": []
          },
          "execution_count": 1
        }
      ]
    },
    {
      "metadata": {
        "id": "eFHck8LsqL3P",
        "colab_type": "text"
      },
      "cell_type": "markdown",
      "source": [
        "# **3.2 영화 리뷰 분류 : 이진 분류 예제**\n",
        "\n",
        "리뷰 택스트를 기반으로 영화 리뷰를 긍정과 부정으로 분류하는 방법 익히기\n",
        "\n",
        ">5만개의  IMDB 데이터셋이용\n",
        "\n",
        ">케라스에 포함된 데이터로 전처리되어 있어 각 리부(단어시퀀스)가 숫자 시퀀스로 변환되어 있다. 숫자는 사전에 있는 고유한 단어를 나타냄\n",
        "\n",
        ">train :2만5천개, test : 2만5천개 (각각 50대50으로 긍정부정 리뷰 구성)\n",
        "\n",
        "\n",
        "\n"
      ]
    },
    {
      "metadata": {
        "id": "RtyQHJy9qEyL",
        "colab_type": "code",
        "outputId": "8a0d7300-8134-44ac-fd91-cd425dddb150",
        "colab": {
          "base_uri": "https://localhost:8080/",
          "height": 53
        }
      },
      "cell_type": "code",
      "source": [
        "from keras.datasets import imdb\n",
        "\n",
        "(train_data, train_labels), (test_data, test_labels) = imdb.load_data(num_words=10000)"
      ],
      "execution_count": 0,
      "outputs": [
        {
          "output_type": "stream",
          "text": [
            "Downloading data from https://s3.amazonaws.com/text-datasets/imdb.npz\n",
            "17465344/17464789 [==============================] - 1s 0us/step\n"
          ],
          "name": "stdout"
        }
      ]
    },
    {
      "metadata": {
        "id": "tH6nHFopsCWv",
        "colab_type": "text"
      },
      "cell_type": "markdown",
      "source": [
        "train data에서 가장 자주 나타나는 단어 만개만 사용하기 위하기 위해 매개변수 num_words=10000으로 지정\n",
        "드물게 나타나는 단어는 무시할 것이다.\n",
        "이유 : 적절한 크기의 벡터 데이터를 얻을 수 있기때문에\n"
      ]
    },
    {
      "metadata": {
        "id": "acZf1v06qE6v",
        "colab_type": "code",
        "outputId": "73526191-b2c4-4f4d-9125-f86db22f4f54",
        "colab": {
          "base_uri": "https://localhost:8080/",
          "height": 3941
        }
      },
      "cell_type": "code",
      "source": [
        "train_data[0]"
      ],
      "execution_count": 0,
      "outputs": [
        {
          "output_type": "execute_result",
          "data": {
            "text/plain": [
              "[1,\n",
              " 14,\n",
              " 22,\n",
              " 16,\n",
              " 43,\n",
              " 530,\n",
              " 973,\n",
              " 1622,\n",
              " 1385,\n",
              " 65,\n",
              " 458,\n",
              " 4468,\n",
              " 66,\n",
              " 3941,\n",
              " 4,\n",
              " 173,\n",
              " 36,\n",
              " 256,\n",
              " 5,\n",
              " 25,\n",
              " 100,\n",
              " 43,\n",
              " 838,\n",
              " 112,\n",
              " 50,\n",
              " 670,\n",
              " 2,\n",
              " 9,\n",
              " 35,\n",
              " 480,\n",
              " 284,\n",
              " 5,\n",
              " 150,\n",
              " 4,\n",
              " 172,\n",
              " 112,\n",
              " 167,\n",
              " 2,\n",
              " 336,\n",
              " 385,\n",
              " 39,\n",
              " 4,\n",
              " 172,\n",
              " 4536,\n",
              " 1111,\n",
              " 17,\n",
              " 546,\n",
              " 38,\n",
              " 13,\n",
              " 447,\n",
              " 4,\n",
              " 192,\n",
              " 50,\n",
              " 16,\n",
              " 6,\n",
              " 147,\n",
              " 2025,\n",
              " 19,\n",
              " 14,\n",
              " 22,\n",
              " 4,\n",
              " 1920,\n",
              " 4613,\n",
              " 469,\n",
              " 4,\n",
              " 22,\n",
              " 71,\n",
              " 87,\n",
              " 12,\n",
              " 16,\n",
              " 43,\n",
              " 530,\n",
              " 38,\n",
              " 76,\n",
              " 15,\n",
              " 13,\n",
              " 1247,\n",
              " 4,\n",
              " 22,\n",
              " 17,\n",
              " 515,\n",
              " 17,\n",
              " 12,\n",
              " 16,\n",
              " 626,\n",
              " 18,\n",
              " 2,\n",
              " 5,\n",
              " 62,\n",
              " 386,\n",
              " 12,\n",
              " 8,\n",
              " 316,\n",
              " 8,\n",
              " 106,\n",
              " 5,\n",
              " 4,\n",
              " 2223,\n",
              " 5244,\n",
              " 16,\n",
              " 480,\n",
              " 66,\n",
              " 3785,\n",
              " 33,\n",
              " 4,\n",
              " 130,\n",
              " 12,\n",
              " 16,\n",
              " 38,\n",
              " 619,\n",
              " 5,\n",
              " 25,\n",
              " 124,\n",
              " 51,\n",
              " 36,\n",
              " 135,\n",
              " 48,\n",
              " 25,\n",
              " 1415,\n",
              " 33,\n",
              " 6,\n",
              " 22,\n",
              " 12,\n",
              " 215,\n",
              " 28,\n",
              " 77,\n",
              " 52,\n",
              " 5,\n",
              " 14,\n",
              " 407,\n",
              " 16,\n",
              " 82,\n",
              " 2,\n",
              " 8,\n",
              " 4,\n",
              " 107,\n",
              " 117,\n",
              " 5952,\n",
              " 15,\n",
              " 256,\n",
              " 4,\n",
              " 2,\n",
              " 7,\n",
              " 3766,\n",
              " 5,\n",
              " 723,\n",
              " 36,\n",
              " 71,\n",
              " 43,\n",
              " 530,\n",
              " 476,\n",
              " 26,\n",
              " 400,\n",
              " 317,\n",
              " 46,\n",
              " 7,\n",
              " 4,\n",
              " 2,\n",
              " 1029,\n",
              " 13,\n",
              " 104,\n",
              " 88,\n",
              " 4,\n",
              " 381,\n",
              " 15,\n",
              " 297,\n",
              " 98,\n",
              " 32,\n",
              " 2071,\n",
              " 56,\n",
              " 26,\n",
              " 141,\n",
              " 6,\n",
              " 194,\n",
              " 7486,\n",
              " 18,\n",
              " 4,\n",
              " 226,\n",
              " 22,\n",
              " 21,\n",
              " 134,\n",
              " 476,\n",
              " 26,\n",
              " 480,\n",
              " 5,\n",
              " 144,\n",
              " 30,\n",
              " 5535,\n",
              " 18,\n",
              " 51,\n",
              " 36,\n",
              " 28,\n",
              " 224,\n",
              " 92,\n",
              " 25,\n",
              " 104,\n",
              " 4,\n",
              " 226,\n",
              " 65,\n",
              " 16,\n",
              " 38,\n",
              " 1334,\n",
              " 88,\n",
              " 12,\n",
              " 16,\n",
              " 283,\n",
              " 5,\n",
              " 16,\n",
              " 4472,\n",
              " 113,\n",
              " 103,\n",
              " 32,\n",
              " 15,\n",
              " 16,\n",
              " 5345,\n",
              " 19,\n",
              " 178,\n",
              " 32]"
            ]
          },
          "metadata": {
            "tags": []
          },
          "execution_count": 4
        }
      ]
    },
    {
      "metadata": {
        "id": "6oeGDCKdqE9f",
        "colab_type": "code",
        "outputId": "4f119174-947f-45cc-9f90-b82fdcbd5cfb",
        "colab": {
          "base_uri": "https://localhost:8080/",
          "height": 35
        }
      },
      "cell_type": "code",
      "source": [
        "train_labels[0]"
      ],
      "execution_count": 0,
      "outputs": [
        {
          "output_type": "execute_result",
          "data": {
            "text/plain": [
              "1"
            ]
          },
          "metadata": {
            "tags": []
          },
          "execution_count": 5
        }
      ]
    },
    {
      "metadata": {
        "id": "2B52Yx8Ms9u7",
        "colab_type": "text"
      },
      "cell_type": "markdown",
      "source": [
        "num_words=10000로 제한했기 떄문에 단어의 index는 만을 넘지 않는다.\n",
        "\n",
        "\n"
      ]
    },
    {
      "metadata": {
        "id": "keT9uYJEtfQj",
        "colab_type": "code",
        "outputId": "1c628399-b11d-4193-82cf-7f002a398c0c",
        "colab": {
          "base_uri": "https://localhost:8080/",
          "height": 35
        }
      },
      "cell_type": "code",
      "source": [
        "max([max(sequence) for sequence in train_data])"
      ],
      "execution_count": 0,
      "outputs": [
        {
          "output_type": "execute_result",
          "data": {
            "text/plain": [
              "9999"
            ]
          },
          "metadata": {
            "tags": []
          },
          "execution_count": 8
        }
      ]
    },
    {
      "metadata": {
        "id": "U89KMJrSthVL",
        "colab_type": "text"
      },
      "cell_type": "markdown",
      "source": [
        "리뷰 데이터 하나를 원래 영어 단어로 바꾸기"
      ]
    },
    {
      "metadata": {
        "id": "qHVUc7lAqE__",
        "colab_type": "code",
        "outputId": "6c4c9ca5-cdf4-4a7b-bf7a-1096b5714abd",
        "colab": {
          "base_uri": "https://localhost:8080/",
          "height": 53
        }
      },
      "cell_type": "code",
      "source": [
        "# word_index는 단어와 정수 인덱스를 매핑한 딕셔너리입니다\n",
        "word_index = imdb.get_word_index()\n",
        "# 정수 인덱스와 단어를 매핑하도록 뒤집습니다\n",
        "reverse_word_index = dict([(value, key) for (key, value) in word_index.items()])\n",
        "# 리뷰를 디코딩합니다. \n",
        "# 0, 1, 2는 '패딩', '문서 시작', '사전에 없음'을 위한 인덱스이므로 3을 뺍니다\n",
        "decoded_review = ' '.join([reverse_word_index.get(i - 3, '?') for i in train_data[0]])"
      ],
      "execution_count": 0,
      "outputs": [
        {
          "output_type": "stream",
          "text": [
            "Downloading data from https://s3.amazonaws.com/text-datasets/imdb_word_index.json\n",
            "1646592/1641221 [==============================] - 0s 0us/step\n"
          ],
          "name": "stdout"
        }
      ]
    },
    {
      "metadata": {
        "id": "R-NfZqE8qFCw",
        "colab_type": "code",
        "outputId": "f8830140-7cb4-48a6-f8ec-5e69dfaa240e",
        "colab": {
          "base_uri": "https://localhost:8080/",
          "height": 55
        }
      },
      "cell_type": "code",
      "source": [
        "decoded_review"
      ],
      "execution_count": 0,
      "outputs": [
        {
          "output_type": "execute_result",
          "data": {
            "text/plain": [
              "\"? this film was just brilliant casting location scenery story direction everyone's really suited the part they played and you could just imagine being there robert ? is an amazing actor and now the same being director ? father came from the same scottish island as myself so i loved the fact there was a real connection with this film the witty remarks throughout the film were great it was just brilliant so much that i bought the film as soon as it was released for ? and would recommend it to everyone to watch and the fly fishing was amazing really cried at the end it was so sad and you know what they say if you cry at a film it must have been good and this definitely was also ? to the two little boy's that played the ? of norman and paul they were just brilliant children are often left out of the ? list i think because the stars that play them all grown up are such a big profile for the whole film but these children are amazing and should be praised for what they have done don't you think the whole story was so lovely because it was true and was someone's life after all that was shared with us all\""
            ]
          },
          "metadata": {
            "tags": []
          },
          "execution_count": 7
        }
      ]
    },
    {
      "metadata": {
        "id": "GTbwUHLbuDsP",
        "colab_type": "text"
      },
      "cell_type": "markdown",
      "source": [
        "# 데이터 준비\n",
        "\n",
        "신경망에 숫자 리스트를 넣을 수 없다. 리스트를 텐서로 바꾸는 작업이 필요\n",
        "\n",
        ">방법1 : 같은 길이가 되도록 리스트에 패딩을 추가하고 (samples, sequence_length) 크기의 정수 텐서로 변환하기.  이 정수 텐서를 다룰 수 있는 층을 신경망의 첫 번째 층으로 사용한다. (Embedding 층을 말하며 나중에 자세히 다룸).\n",
        "\n",
        ">방법2 : 리스트를 원-핫 인코딩하여 0과1의 벡터로 변환하기. (ex. 시퀀스[3,5]를 index 3과 5의 위치는 1이고 그외는 모두 0인 10,000벡터로 각각 변환한다.) 이후 부동 소수 벡터 데이터를 다룰 수 있는 Dense층을 신경망의 첫 번쨰 층으로 사용\n",
        "\n",
        ">방법 2를 이용해 보기\n",
        "\n",
        "\n",
        "\n",
        "---\n",
        "\n",
        "부동소수란?\n",
        "\n",
        "부동소수점(浮動小數點, floating point) 또는 떠돌이 소수점[1] 방식은 ***실수를 컴퓨터 상에서 근사하여 표현할 때 소수점의 위치를 고정하지 않고 그 위치를 나타내는 수를 따로 적는 것***으로, 유효숫자를 나타내는 가수(假數)와 소수점의 위치를 풀이하는 지수(指數)로 나누어 표현한다.\n",
        "\n",
        "컴퓨터에서는 고정 소수점 방식보다 넓은 범위의 수를 나타낼 수 있어 과학기술 계산에 많이 이용되지만, 근삿값으로 표현되며[2] 고정 소수점 방식보다 연산 속도가 느리기 때문에 별도의 전용 연산 장치를 두는 경우가 많다. 고정 소수점과 달리 정수 부분과 소수 부분의 자릿수가 일정하지 않으나, 유효 숫자의 자릿수는 정해져 있다.[출처 : 위키백과]\n",
        "\n"
      ]
    },
    {
      "metadata": {
        "id": "Wuep2WC5qFE_",
        "colab_type": "code",
        "colab": {}
      },
      "cell_type": "code",
      "source": [
        "#리스트를 원-핫 인코딩하여 0과1의 벡터로 변환하기\n",
        "import numpy as np\n",
        "\n",
        "def vectorize_sequences(sequences, dimension=10000):\n",
        "    # 크기가 (len(sequences), dimension))이고 모든 원소가 0인 행렬을 만듭니다\n",
        "    results = np.zeros((len(sequences), dimension))\n",
        "    for i, sequence in enumerate(sequences):\n",
        "        results[i, sequence] = 1.  # results[i]에서 특정 인덱스의 위치를 1로 만듭니다\n",
        "    return results\n",
        "\n",
        "# 훈련 데이터를 벡터로 변환합니다\n",
        "x_train = vectorize_sequences(train_data)\n",
        "# 테스트 데이터를 벡터로 변환합니다\n",
        "x_test = vectorize_sequences(test_data)"
      ],
      "execution_count": 0,
      "outputs": []
    },
    {
      "metadata": {
        "id": "F-D4vTyOqFHf",
        "colab_type": "code",
        "outputId": "04dc7918-a5cd-4858-bb90-9aeb81d94521",
        "colab": {
          "base_uri": "https://localhost:8080/",
          "height": 35
        }
      },
      "cell_type": "code",
      "source": [
        "x_train[0]"
      ],
      "execution_count": 0,
      "outputs": [
        {
          "output_type": "execute_result",
          "data": {
            "text/plain": [
              "array([0., 1., 1., ..., 0., 0., 0.])"
            ]
          },
          "metadata": {
            "tags": []
          },
          "execution_count": 20
        }
      ]
    },
    {
      "metadata": {
        "id": "q4sC4DmFqFMf",
        "colab_type": "code",
        "colab": {}
      },
      "cell_type": "code",
      "source": [
        "# 레이블을 벡터로 바꿉니다\n",
        "y_train = np.asarray(train_labels).astype('float32')\n",
        "y_test = np.asarray(test_labels).astype('float32')"
      ],
      "execution_count": 0,
      "outputs": []
    },
    {
      "metadata": {
        "id": "2Llrfd-Vwytz",
        "colab_type": "text"
      },
      "cell_type": "markdown",
      "source": [
        "# 신경망 모델 만들기\n",
        "입력 데이터는 벡터이고 레이블은 스칼라(1 또는 0).  이런 문제에 잘 작동하는 네트워크 종류는 relu 활성화 함수를 사용한 완전 연결 층(즉, Dense(16, activation='relu'))을 그냥 쌓은 것이다.\n",
        "\n",
        "Dense 층에 전달한 매개변수(16)는 은닉 유닛의 개수다. 하나의 은닉 유닛은 층이 나타내는 표현 공간에서 하나의 차원이 된다. \n",
        "\n",
        "2장에서 relu 활성화 함수를 사용한 Dense 층을 다음과 같은 텐서 연산을 연결하여 구현함:\n",
        "output = relu(dot(W, input) + b)\n",
        "\n",
        "16개의 은닉 유닛이 있다는 것은 가중치 행렬 W의 크기가 (input_dimension, 16)이라는 뜻이다. 입력 데이터와 W를 점곱하면 입력 데이터가 16 차원으로 표현된 공간으로 투영된다(그리고 편향 벡터 b를 더하고 relu 연산을 적용). 표현 *공간의 차원을 '신경망이 내재된 표현을 학습할 때 가질 수 있는 자유도'로 이해*할 수 있다. 은닉 유닛을 늘리면 (표현 공간을 더 고차원으로 만들면) 신경망이 더욱 복잡한 표현을 학습할 수 있지만 계산 비용이 커지고 원치 않은 패턴을 학습할 수도 있다(훈련 데이터에서는 성능이 향상되지만 테스트 데이터에서는 그렇지 않은 패턴을 보임).\n",
        "\n",
        "Dense 층을 쌓을 때 두 가진 중요한 구조상의 결정이 필요:\n",
        "\n",
        ">1. 얼마나 많은 층을 사용할 것인가?\n",
        "\n",
        ">2. 각 층에 얼마나 많은 은닉 유닛을 둘 것인가?\n",
        "\n",
        "4장에서 이런 결정을 하는 데 도움이 되는 일반적인 원리를 배움.\n",
        "\n",
        "16개의 은닉 유닛을 가진 두 개의 은닉층\n",
        "현재 리뷰의 감정을 스칼라 값의 예측으로 출력하는 세 번째 층\n",
        "중간에 있는 은닉층은 활성화 함수로 relu를 사용하고 마지막 층은 확률(0과 1 사이의 점수로, 어떤 샘플이 타깃 '1'일 가능성이 높다는 것은 그 리뷰가 긍정일 가능성이 높다는 것을 의미)을 출력하기 위해 시그모이드 활성화 함수를 사용한다. relu는 음수를 0으로 만드는 함수*. 시그모이드는 임의의 값을 [0, 1] 사이로 압축하므로 출력 값을 확률처럼 해석할 수 있다.*\n",
        "\n",
        "신경망 모습:\n",
        "![대체 텍스트](https://camo.githubusercontent.com/ad8a581c483ced840d4a471329d8654e41883d79/68747470733a2f2f73332e616d617a6f6e6177732e636f6d2f626f6f6b2e6b657261732e696f2f696d672f6368332f335f6c617965725f6e6574776f726b2e706e67)\n",
        "\n",
        "\n",
        "\n",
        "\n",
        "---\n",
        "\n",
        "\n",
        "이 신경망의 케라스 구현:\n",
        "\n",
        "\n"
      ]
    },
    {
      "metadata": {
        "id": "o1RsRnRrqFPQ",
        "colab_type": "code",
        "colab": {}
      },
      "cell_type": "code",
      "source": [
        "from keras import models\n",
        "from keras import layers\n",
        "\n",
        "model = models.Sequential()\n",
        "model.add(layers.Dense(16, activation='relu', input_shape=(10000,)))\n",
        "model.add(layers.Dense(16, activation='relu'))\n",
        "model.add(layers.Dense(1, activation='sigmoid'))"
      ],
      "execution_count": 0,
      "outputs": []
    },
    {
      "metadata": {
        "id": "d1xldmIyzF-y",
        "colab_type": "text"
      },
      "cell_type": "markdown",
      "source": [
        "마지막으로 손실 함수와 옵티마이저를 선택해야 한다. 이진 분류 문제이고 신경망의 출력이 확률이기 때문에(네트워크의 끝에 시그모이드 활성화 함수를 사용한 하나의 유닛으로 된 층을 놓았다), binary_crossentropy 손실이 적합하다. 이 함수가 유일한 선택은 아니다. mean_squared_error를 사용할 수도 있다.\n",
        "\n",
        "확률을 출력하는 모델을 사용할 때는 크로스엔트로피가 최선의 선택이다. 크로스엔트로피는 정보 이론 분야에서 온 개념으로 확률 분포 간의 차이를 측정한다. 여기에서는 원본 분포와 예측 분포 사이를 측정한다.\n",
        "\n",
        "다음은 rmsprop 옵티마이저와 binary_crossentropy 손실 함수로 모델을 설정하는 단계이다. 훈련하는 동안 정확도를 사용해 모니터링하자."
      ]
    },
    {
      "metadata": {
        "id": "iG4XgA5OqFR_",
        "colab_type": "code",
        "colab": {}
      },
      "cell_type": "code",
      "source": [
        "model.compile(optimizer='rmsprop',\n",
        "              loss='binary_crossentropy',\n",
        "              metrics=['accuracy'])"
      ],
      "execution_count": 0,
      "outputs": []
    },
    {
      "metadata": {
        "id": "l9idwh1Jztdb",
        "colab_type": "text"
      },
      "cell_type": "markdown",
      "source": [
        "케라스에 rmsprop, binary_crossentropy, accuracy가 포함되어 있기 때문에 옵티마이저, 손실 함수, 측정 지표를 문자열로 지정하는 것이 가능하다. 이따금 옵티마이저의 매개변수를 바꾸거나 자신만의 손실 함수, 측정 함수를 전달해야 할 경우가 있는데 전자의 경우에는 옵티마이저 파이썬 클래스를 사용해 객체를 직접 만들어 optimizer 매개변수에 전달하면 된다. 후자의 경우는 loss와 metrics 매개변수에 함수 객체를 전달한다."
      ]
    },
    {
      "metadata": {
        "id": "fWkIqVjZqF0T",
        "colab_type": "code",
        "colab": {}
      },
      "cell_type": "code",
      "source": [
        "#옵티마이저 파이썬 클래스를 사용해 객체를 직접 만들어 optimizer 매개변수에 전달\n",
        "\n",
        "from keras import optimizers\n",
        "\n",
        "model.compile(optimizer=optimizers.RMSprop(lr=0.001),\n",
        "              loss='binary_crossentropy',\n",
        "              metrics=['accuracy'])"
      ],
      "execution_count": 0,
      "outputs": []
    },
    {
      "metadata": {
        "id": "0EtbLxPYqF3D",
        "colab_type": "code",
        "colab": {}
      },
      "cell_type": "code",
      "source": [
        "#loss와 metrics 매개변수에 함수 객체를 전달"
      ],
      "execution_count": 0,
      "outputs": []
    },
    {
      "metadata": {
        "id": "La-0iMNnqF5j",
        "colab_type": "code",
        "colab": {}
      },
      "cell_type": "code",
      "source": [
        "from keras import losses\n",
        "from keras import metrics\n",
        "\n",
        "model.compile(optimizer=optimizers.RMSprop(lr=0.001),\n",
        "              loss=losses.binary_crossentropy,\n",
        "              metrics=[metrics.binary_accuracy])"
      ],
      "execution_count": 0,
      "outputs": []
    },
    {
      "metadata": {
        "id": "hHx-VcfEqF8T",
        "colab_type": "code",
        "colab": {}
      },
      "cell_type": "code",
      "source": [
        "model.compile(optimizer='rmsprop',\n",
        "              loss='binary_crossentropy',\n",
        "              metrics=['accuracy'])"
      ],
      "execution_count": 0,
      "outputs": []
    },
    {
      "metadata": {
        "id": "eoJa1Gby0sAC",
        "colab_type": "text"
      },
      "cell_type": "markdown",
      "source": [
        "# 훈련 검증\n",
        "훈련하는 동안 처음 본 데이터에 대한 모델의 정확도를 측정하기 위해서는 원본 훈련 데이터에서 10,000의 샘플을 떼어서 검증 세트를 만들자"
      ]
    },
    {
      "metadata": {
        "id": "STDV1S_UqF-z",
        "colab_type": "code",
        "colab": {}
      },
      "cell_type": "code",
      "source": [
        "x_val = x_train[:10000]\n",
        "partial_x_train = x_train[10000:]\n",
        "\n",
        "y_val = y_train[:10000]\n",
        "partial_y_train = y_train[10000:]"
      ],
      "execution_count": 0,
      "outputs": []
    },
    {
      "metadata": {
        "id": "n8g_wzWi01FW",
        "colab_type": "text"
      },
      "cell_type": "markdown",
      "source": [
        "이제 모델을 512개 샘플씩 미니 배치를 만들어 20번의 에포크 동안 훈련시키자(x_train과 y_train 텐서에 있는 모든 샘플에 대해 20번 반복). 동시에 따로 떼어 놓은 10,000개의 샘플에서 손실과 정확도를 측정할 것이다. 이렇게 하려면 validation_data 매개변수에 검증 데이터를 전달해야 한다."
      ]
    },
    {
      "metadata": {
        "id": "F023x9VZ00KO",
        "colab_type": "code",
        "outputId": "802c7b7d-e0c7-41fa-fd94-0bc1297eab01",
        "colab": {
          "base_uri": "https://localhost:8080/",
          "height": 829
        }
      },
      "cell_type": "code",
      "source": [
        "history = model.fit(partial_x_train,\n",
        "                    partial_y_train,\n",
        "                    epochs=20,\n",
        "                    batch_size=512,\n",
        "                    validation_data=(x_val, y_val))"
      ],
      "execution_count": 0,
      "outputs": [
        {
          "output_type": "stream",
          "text": [
            "WARNING:tensorflow:From /usr/local/lib/python3.6/dist-packages/tensorflow/python/ops/math_ops.py:3066: to_int32 (from tensorflow.python.ops.math_ops) is deprecated and will be removed in a future version.\n",
            "Instructions for updating:\n",
            "Use tf.cast instead.\n",
            "Train on 15000 samples, validate on 10000 samples\n",
            "Epoch 1/20\n",
            "15000/15000 [==============================] - 4s 234us/step - loss: 0.5363 - acc: 0.7760 - val_loss: 0.4001 - val_acc: 0.8675\n",
            "Epoch 2/20\n",
            "15000/15000 [==============================] - 3s 195us/step - loss: 0.3203 - acc: 0.8986 - val_loss: 0.3268 - val_acc: 0.8736\n",
            "Epoch 3/20\n",
            "15000/15000 [==============================] - 3s 190us/step - loss: 0.2342 - acc: 0.9249 - val_loss: 0.2856 - val_acc: 0.8867\n",
            "Epoch 4/20\n",
            "15000/15000 [==============================] - 3s 190us/step - loss: 0.1837 - acc: 0.9403 - val_loss: 0.2737 - val_acc: 0.8908\n",
            "Epoch 5/20\n",
            "15000/15000 [==============================] - 3s 191us/step - loss: 0.1517 - acc: 0.9511 - val_loss: 0.2997 - val_acc: 0.8814\n",
            "Epoch 6/20\n",
            "15000/15000 [==============================] - 3s 191us/step - loss: 0.1227 - acc: 0.9623 - val_loss: 0.2877 - val_acc: 0.8869\n",
            "Epoch 7/20\n",
            "15000/15000 [==============================] - 3s 191us/step - loss: 0.1064 - acc: 0.9669 - val_loss: 0.3042 - val_acc: 0.8835\n",
            "Epoch 8/20\n",
            "15000/15000 [==============================] - 3s 191us/step - loss: 0.0862 - acc: 0.9751 - val_loss: 0.3221 - val_acc: 0.8811\n",
            "Epoch 9/20\n",
            "15000/15000 [==============================] - 3s 190us/step - loss: 0.0697 - acc: 0.9824 - val_loss: 0.3406 - val_acc: 0.8802\n",
            "Epoch 10/20\n",
            "15000/15000 [==============================] - 3s 189us/step - loss: 0.0602 - acc: 0.9843 - val_loss: 0.3854 - val_acc: 0.8764\n",
            "Epoch 11/20\n",
            "15000/15000 [==============================] - 3s 192us/step - loss: 0.0473 - acc: 0.9895 - val_loss: 0.3964 - val_acc: 0.8737\n",
            "Epoch 12/20\n",
            "15000/15000 [==============================] - 3s 194us/step - loss: 0.0391 - acc: 0.9920 - val_loss: 0.4219 - val_acc: 0.8725\n",
            "Epoch 13/20\n",
            "15000/15000 [==============================] - 3s 195us/step - loss: 0.0341 - acc: 0.9933 - val_loss: 0.4558 - val_acc: 0.8744\n",
            "Epoch 14/20\n",
            "15000/15000 [==============================] - 3s 196us/step - loss: 0.0255 - acc: 0.9950 - val_loss: 0.4899 - val_acc: 0.8717\n",
            "Epoch 15/20\n",
            "15000/15000 [==============================] - 3s 196us/step - loss: 0.0188 - acc: 0.9968 - val_loss: 0.5320 - val_acc: 0.8634\n",
            "Epoch 16/20\n",
            "15000/15000 [==============================] - 3s 194us/step - loss: 0.0166 - acc: 0.9975 - val_loss: 0.5412 - val_acc: 0.8679\n",
            "Epoch 17/20\n",
            "15000/15000 [==============================] - 3s 194us/step - loss: 0.0129 - acc: 0.9983 - val_loss: 0.5746 - val_acc: 0.8673\n",
            "Epoch 18/20\n",
            "15000/15000 [==============================] - 3s 194us/step - loss: 0.0107 - acc: 0.9985 - val_loss: 0.6048 - val_acc: 0.8647\n",
            "Epoch 19/20\n",
            "15000/15000 [==============================] - 3s 192us/step - loss: 0.0063 - acc: 0.9997 - val_loss: 0.6624 - val_acc: 0.8652\n",
            "Epoch 20/20\n",
            "15000/15000 [==============================] - 3s 190us/step - loss: 0.0080 - acc: 0.9988 - val_loss: 0.6639 - val_acc: 0.8649\n"
          ],
          "name": "stdout"
        }
      ]
    },
    {
      "metadata": {
        "id": "KD_gU10C1EVt",
        "colab_type": "text"
      },
      "cell_type": "markdown",
      "source": [
        "model.fit() 메서드는 History 객체를 반환한다. 이 객체는 훈련하는 동안 발생한 모든 정보를 담고 있는 딕셔너리인 history 속성을 가지고 있다. "
      ]
    },
    {
      "metadata": {
        "id": "XCueEUgd1PuX",
        "colab_type": "code",
        "colab": {}
      },
      "cell_type": "code",
      "source": [
        "import matplotlib.pyplot as plt"
      ],
      "execution_count": 0,
      "outputs": []
    },
    {
      "metadata": {
        "id": "QX_9Nm4u1RRH",
        "colab_type": "code",
        "outputId": "f5f4ce04-330e-45ac-f887-05e6c24ab712",
        "colab": {
          "base_uri": "https://localhost:8080/",
          "height": 295
        }
      },
      "cell_type": "code",
      "source": [
        "acc = history.history['acc']\n",
        "val_acc = history.history['val_acc']\n",
        "loss = history.history['loss']\n",
        "val_loss = history.history['val_loss']\n",
        "\n",
        "epochs = range(1, len(acc) + 1)\n",
        "\n",
        "# ‘bo’는 파란색 점을 의미합니다\n",
        "plt.plot(epochs, loss, 'bo', label='Training loss')\n",
        "# ‘b’는 파란색 실선을 의미합니다\n",
        "plt.plot(epochs, val_loss, 'b', label='Validation loss')\n",
        "plt.title('Training and validation loss')\n",
        "plt.xlabel('Epochs')\n",
        "plt.ylabel('Loss')\n",
        "plt.legend()\n",
        "\n",
        "plt.show()"
      ],
      "execution_count": 0,
      "outputs": [
        {
          "output_type": "display_data",
          "data": {
            "image/png": "[encoded data removed]",
            "text/plain": [
              "<Figure size 432x288 with 1 Axes>"
            ]
          },
          "metadata": {
            "tags": []
          }
        }
      ]
    },
    {
      "metadata": {
        "id": "Bju8lIN-1XMD",
        "colab_type": "code",
        "outputId": "6cab14c1-3a3f-4973-968e-0e44fb72e645",
        "colab": {
          "base_uri": "https://localhost:8080/",
          "height": 295
        }
      },
      "cell_type": "code",
      "source": [
        "plt.clf()   # 그래프를 초기화합니다\n",
        "acc = history.history['acc']\n",
        "val_acc = history.history['val_acc']\n",
        "#acc = history_dict['acc']\n",
        "#val_acc = history_dict['val_acc']\n",
        "\n",
        "plt.plot(epochs, acc, 'bo', label='Training acc')\n",
        "plt.plot(epochs, val_acc, 'b', label='Validation acc')\n",
        "plt.title('Training and validation accuracy')\n",
        "plt.xlabel('Epochs')\n",
        "plt.ylabel('Accuracy')\n",
        "plt.legend()\n",
        "\n",
        "plt.show()"
      ],
      "execution_count": 0,
      "outputs": [
        {
          "output_type": "display_data",
          "data": {
            "image/png": "[encoded data removed]",
            "text/plain": [
              "<Figure size 432x288 with 1 Axes>"
            ]
          },
          "metadata": {
            "tags": []
          }
        }
      ]
    },
    {
      "metadata": {
        "id": "yqXDR60S2gaq",
        "colab_type": "text"
      },
      "cell_type": "markdown",
      "source": [
        "점선은 훈련 손실과 정확도이고 실선은 검증 손실과 정확도이다. 신경망의 무작위한 초기화 때문에 사람마다 결과거 조금 다름.\n",
        "\n",
        "훈련 손실이 에포크마다 감소하고 훈련 정확도는 에포크마다 증가한다. 경사 하강법 최적화를 사용했을 때 반복마다 최소화되는 것이 손실이므로 기대와 같다. 검증 손실과 정확도는 이와 같지 않다. 4번째 에포크에서 그래프가 역전데 이것이 훈련 세트에서 잘 작동하는 모델이 처음 보는 데이터에 잘 작동하지 않을 수 있다고 앞서 언급한 경고의 한 사례다. 정확한 용어로 말하면 과대적합. 2번째 에포크 이후부터 훈련 데이터에 과도하게 최적화되어 훈련 데이터에 특화된 표현을 학습하므로 훈련 세트 이외의 데이터에는 일반화되지 못한다.\n",
        "\n",
        "이런 경우에 과대적합을 방지하기 위해서 3번째 에포크 이후에 훈련을 중지한다. \n",
        "\n",
        "처음부터 다시 새로운 신경망을 4번의 에포크 동안만 훈련하고 테스트 데이터에서 평가해 보자:"
      ]
    },
    {
      "metadata": {
        "id": "Z3KGwuFB3Kh6",
        "colab_type": "code",
        "outputId": "68feb15d-e8e8-4b09-b548-15050bb2901d",
        "colab": {
          "base_uri": "https://localhost:8080/",
          "height": 179
        }
      },
      "cell_type": "code",
      "source": [
        "model = models.Sequential()\n",
        "model.add(layers.Dense(16, activation='relu', input_shape=(10000,)))\n",
        "model.add(layers.Dense(16, activation='relu'))\n",
        "model.add(layers.Dense(1, activation='sigmoid'))\n",
        "\n",
        "model.compile(optimizer='rmsprop',\n",
        "              loss='binary_crossentropy',\n",
        "              metrics=['accuracy'])\n",
        "\n",
        "model.fit(x_train, y_train, epochs=4, batch_size=512)\n",
        "results = model.evaluate(x_test, y_test)"
      ],
      "execution_count": 0,
      "outputs": [
        {
          "output_type": "stream",
          "text": [
            "Epoch 1/4\n",
            "25000/25000 [==============================] - 4s 150us/step - loss: 0.4738 - acc: 0.8217\n",
            "Epoch 2/4\n",
            "25000/25000 [==============================] - 3s 139us/step - loss: 0.2673 - acc: 0.9093\n",
            "Epoch 3/4\n",
            "25000/25000 [==============================] - 3s 137us/step - loss: 0.2032 - acc: 0.9286\n",
            "Epoch 4/4\n",
            "25000/25000 [==============================] - 3s 136us/step - loss: 0.1711 - acc: 0.9387\n",
            "25000/25000 [==============================] - 2s 77us/step\n"
          ],
          "name": "stdout"
        }
      ]
    },
    {
      "metadata": {
        "id": "-yUCreHc3Q0y",
        "colab_type": "code",
        "outputId": "ec7742e5-444c-4b6f-a2cb-3e4ae0fa4437",
        "colab": {
          "base_uri": "https://localhost:8080/",
          "height": 35
        }
      },
      "cell_type": "code",
      "source": [
        "results"
      ],
      "execution_count": 0,
      "outputs": [
        {
          "output_type": "execute_result",
          "data": {
            "text/plain": [
              "[0.3124895779132843, 0.87584]"
            ]
          },
          "metadata": {
            "tags": []
          },
          "execution_count": 38
        }
      ]
    },
    {
      "metadata": {
        "id": "AzjjtF073cJm",
        "colab_type": "text"
      },
      "cell_type": "markdown",
      "source": [
        " 87%의 정확도를 달성. 최고 수준의 기법을 사용하면 95%에 가까운 성능을 얻을 수 있다."
      ]
    },
    {
      "metadata": {
        "id": "brc9KZdL3Yca",
        "colab_type": "code",
        "outputId": "9ee69e9a-bbc5-4b4f-804a-a854d10f75f4",
        "colab": {
          "base_uri": "https://localhost:8080/",
          "height": 143
        }
      },
      "cell_type": "code",
      "source": [
        "model.predict(x_test)"
      ],
      "execution_count": 0,
      "outputs": [
        {
          "output_type": "execute_result",
          "data": {
            "text/plain": [
              "array([[0.16219068],\n",
              "       [0.99984837],\n",
              "       [0.39698157],\n",
              "       ...,\n",
              "       [0.08048674],\n",
              "       [0.04885855],\n",
              "       [0.45590666]], dtype=float32)"
            ]
          },
          "metadata": {
            "tags": []
          },
          "execution_count": 39
        }
      ]
    },
    {
      "metadata": {
        "id": "I8X2GpHQ3R2f",
        "colab_type": "text"
      },
      "cell_type": "markdown",
      "source": [
        "이 모델은 어떤 샘플에 대해 확신을 가지고 있지만(0.99 또는 그 이상, 0.01 또는 그 이하) 어떤 샘플에 대해서는 확신이 부족하다(0.6, 0.4).\n"
      ]
    },
    {
      "metadata": {
        "id": "jBowQUlW30OH",
        "colab_type": "text"
      },
      "cell_type": "markdown",
      "source": [
        "--------\n",
        "4월 28일 이후 진행예정\n",
        "\n",
        "\n",
        "# 추가 실험\n",
        "여기에서는 두 개의 은닉층을 사용했습니다. 한 개 또는 세 개의 은닉층을 사용하고 검증과 테스트 정확도에 어떤 영향을 미치는지 확인해 보세요.\n",
        "층의 은닉 유닛을 추가하거나 줄여 보세요: 32개 유닛, 64개 유닛 등\n",
        "binary_crossentropy 대신에 mse 손실 함수를 사용해 보세요.\n",
        "relu 대신에 tanh 활성화 함수(초창기 신경망에서 인기 있었던 함수입니다)를 사용해 보세요.\n",
        "다음 실험을 진행하면 여기에서 선택한 구조가 향상의 여지는 있지만 어느 정도 납득할 만한 수준이라는 것을 알게 것입니다!"
      ]
    },
    {
      "metadata": {
        "id": "IEYLaOw94CYP",
        "colab_type": "text"
      },
      "cell_type": "markdown",
      "source": [
        "# 정리\n",
        "\n",
        "* 원본 데이터를 신경망에 텐서로 주입하기 위해서는 꽤 많은 전처리가 필요하다. 단어 시퀀스는 이진 벡터로 인코딩될 수 있고 다른 인코딩 방식도 있다.\n",
        "* relu 활성화 함수와 함께 Dense 층을 쌓은 네트워크는 (감성 분류를 포함하여) 여러 종류의 문제에 적용할 수 있어서 앞으로 자주 사용하게 된다.\n",
        "* (출력 클래스가 두 개인) 이진 분류 문제에서 네트워크는 하나의 유닛과 sigmoid 활성화 함수를 가진 Dense 층으로 끝나야 한다. 이 신경망의 출력은 확률을 나타내는 0과 1 사이의 스칼라 값이다.\n",
        "* 이진 분류 문제에서 이런 스칼라 시그모이드 출력에 대해 사용할 손실 함수는 binary_crossentropy이다.\n",
        "* rmsprop 옵티마이저는 문제에 상관없이 일반적으로 충분히 좋은 선택이다.\n",
        "* 훈련 데이터에 대해 성능이 향상됨에 따라 신경망은 과대적합되기 시작하고 이전에 본적 없는 데이터에서는 결과가 점점 나빠지게 된다. 항상 훈련 세트 이외의 데이터에서 성능을 모니터링해야 한다."
      ]
    }
  ]
}